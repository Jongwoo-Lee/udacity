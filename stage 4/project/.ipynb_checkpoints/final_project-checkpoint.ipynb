{
 "cells": [
  {
   "cell_type": "code",
   "execution_count": 12,
   "metadata": {
    "collapsed": true
   },
   "outputs": [],
   "source": [
    "# Import Pandas and NumPy libraries\n",
    "import pandas as pd\n",
    "import numpy as np\n",
    "\n",
    "# Load csv file data and put it into Pandas dataframe\n",
    "filename = 'titanic_data.csv'\n",
    "titanic_df = pd.read_csv(filename)"
   ]
  },
  {
   "cell_type": "code",
   "execution_count": 32,
   "metadata": {
    "collapsed": false
   },
   "outputs": [
    {
     "name": "stdout",
     "output_type": "stream",
     "text": [
      "Survived\n",
      "0    549\n",
      "1    342\n",
      "dtype: int64\n"
     ]
    }
   ],
   "source": [
    "# Group data by survival, since it is a study about titanic survived people\n",
    "grouped_survival = titanic_df.groupby('Survived')\n",
    "print grouped_survival.size()"
   ]
  },
  {
   "cell_type": "code",
   "execution_count": 33,
   "metadata": {
    "collapsed": false
   },
   "outputs": [
    {
     "name": "stdout",
     "output_type": "stream",
     "text": [
      "Survived\n",
      "0    30.626179\n",
      "1    28.343690\n",
      "Name: Age, dtype: float64\n",
      "\n",
      "Survived\n",
      "0    2.531876\n",
      "1    1.950292\n",
      "Name: Pclass, dtype: float64\n",
      "\n",
      "Survived\n",
      "0    0.553734\n",
      "1    0.473684\n",
      "Name: SibSp, dtype: float64\n",
      "\n",
      "Survived\n",
      "0    0.329690\n",
      "1    0.464912\n",
      "Name: Parch, dtype: float64\n",
      "\n",
      "Survived\n",
      "0    22.117887\n",
      "1    48.395408\n",
      "Name: Fare, dtype: float64\n"
     ]
    }
   ],
   "source": [
    "# Simple Mean calculation between Survived and not\n",
    "def mean_compare(factor):\n",
    "    return grouped_survival.mean()[factor]\n",
    "\n",
    "# Age vs. Survival\n",
    "print mean_compare('Age')\n",
    "print ''\n",
    "\n",
    "# Pclass vs. Survival\n",
    "print mean_compare('Pclass')\n",
    "print '' \n",
    "\n",
    "# Number of Siblings/Spouses Aboard vs. Survival\n",
    "print mean_compare('SibSp')\n",
    "print '' \n",
    "\n",
    "# Number of Parents/Children Aboard vs. Survival\n",
    "print mean_compare('Parch')\n",
    "print '' \n",
    "\n",
    "# Fare vs. Survival\n",
    "print mean_compare('Fare')"
   ]
  },
  {
   "cell_type": "code",
   "execution_count": null,
   "metadata": {
    "collapsed": true
   },
   "outputs": [],
   "source": [
    "\n",
    "# Sex vs. Survival\n",
    "print titanic_df.groupby('Sex').sum()['Survived']\n",
    "print '' # Empty line\n",
    "\n",
    "# Embarked vs. Survival\n",
    "print titanic_df.groupby('Embarked').sum()['Survived']\n",
    "print '' # Empty line"
   ]
  }
 ],
 "metadata": {
  "kernelspec": {
   "display_name": "Python 2",
   "language": "python",
   "name": "python2"
  },
  "language_info": {
   "codemirror_mode": {
    "name": "ipython",
    "version": 2
   },
   "file_extension": ".py",
   "mimetype": "text/x-python",
   "name": "python",
   "nbconvert_exporter": "python",
   "pygments_lexer": "ipython2",
   "version": "2.7.11"
  }
 },
 "nbformat": 4,
 "nbformat_minor": 0
}
