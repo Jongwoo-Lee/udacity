{
 "cells": [
  {
   "cell_type": "code",
   "execution_count": 107,
   "metadata": {
    "collapsed": true
   },
   "outputs": [],
   "source": [
    "# Import Pandas and NumPy libraries\n",
    "import pandas as pd\n",
    "import numpy as np\n",
    "import matplotlib.pyplot as plt\n",
    "import seaborn as sns\n",
    "\n",
    "# Load csv file data and put it into Pandas dataframe\n",
    "filename = 'titanic_data.csv'\n",
    "titanic_df = pd.read_csv(filename)"
   ]
  },
  {
   "cell_type": "code",
   "execution_count": 5,
   "metadata": {
    "collapsed": false
   },
   "outputs": [
    {
     "name": "stdout",
     "output_type": "stream",
     "text": [
      "Survived\n",
      "0    549\n",
      "1    342\n",
      "dtype: int64\n"
     ]
    }
   ],
   "source": [
    "# Group data by survival, since it is a study about titanic survived people\n",
    "grouped_survival = titanic_df.groupby('Survived')\n",
    "print grouped_survival.size()"
   ]
  },
  {
   "cell_type": "code",
   "execution_count": 6,
   "metadata": {
    "collapsed": false
   },
   "outputs": [
    {
     "name": "stdout",
     "output_type": "stream",
     "text": [
      "Survived\n",
      "0    30.626179\n",
      "1    28.343690\n",
      "Name: Age, dtype: float64\n",
      "\n",
      "Survived\n",
      "0    2.531876\n",
      "1    1.950292\n",
      "Name: Pclass, dtype: float64\n",
      "\n",
      "Survived\n",
      "0    0.553734\n",
      "1    0.473684\n",
      "Name: SibSp, dtype: float64\n",
      "\n",
      "Survived\n",
      "0    0.329690\n",
      "1    0.464912\n",
      "Name: Parch, dtype: float64\n",
      "\n",
      "Survived\n",
      "0    22.117887\n",
      "1    48.395408\n",
      "Name: Fare, dtype: float64\n"
     ]
    }
   ],
   "source": [
    "# Simple Mean calculation between Survived and not\n",
    "def mean_compare(factor):\n",
    "    return grouped_survival.mean()[factor]\n",
    "\n",
    "# Age vs. Survival\n",
    "print mean_compare('Age')\n",
    "print ''\n",
    "\n",
    "# Pclass vs. Survival\n",
    "print mean_compare('Pclass')\n",
    "print '' \n",
    "\n",
    "# Number of Siblings/Spouses Aboard vs. Survival\n",
    "print mean_compare('SibSp')\n",
    "print '' \n",
    "\n",
    "# Number of Parents/Children Aboard vs. Survival\n",
    "print mean_compare('Parch')\n",
    "print '' \n",
    "\n",
    "# Fare vs. Survival\n",
    "print mean_compare('Fare')"
   ]
  },
  {
   "cell_type": "code",
   "execution_count": 13,
   "metadata": {
    "collapsed": false
   },
   "outputs": [
    {
     "name": "stdout",
     "output_type": "stream",
     "text": [
      "Sex\n",
      "female    314\n",
      "male      577\n",
      "dtype: int64\n",
      "Sex\n",
      "female    233\n",
      "male      109\n",
      "Name: Survived, dtype: int64\n",
      "Sex\n",
      "female    0.742038\n",
      "male      0.188908\n",
      "dtype: float64\n",
      "\n",
      "Embarked\n",
      "C    168\n",
      "Q     77\n",
      "S    644\n",
      "dtype: int64\n",
      "Embarked\n",
      "C     93\n",
      "Q     30\n",
      "S    217\n",
      "Name: Survived, dtype: int64\n",
      "Embarked\n",
      "C    0.553571\n",
      "Q    0.389610\n",
      "S    0.336957\n",
      "dtype: float64\n",
      "\n"
     ]
    }
   ],
   "source": [
    "\n",
    "# Sex vs. Survival\n",
    "print titanic_df.groupby('Sex').size()\n",
    "print titanic_df.groupby('Sex').sum()['Survived']\n",
    "print titanic_df.groupby('Sex').sum()['Survived']/titanic_df.groupby('Sex').size()\n",
    "print '' # Empty line\n",
    "\n",
    "# Embarked vs. Survival\n",
    "print titanic_df.groupby('Embarked').size()\n",
    "print titanic_df.groupby('Embarked').sum()['Survived']\n",
    "print titanic_df.groupby('Embarked').sum()['Survived']/titanic_df.groupby('Embarked').size()\n",
    "print '' # Empty line"
   ]
  },
  {
   "cell_type": "code",
   "execution_count": 15,
   "metadata": {
    "collapsed": false
   },
   "outputs": [
    {
     "name": "stdout",
     "output_type": "stream",
     "text": [
      "Sex\n",
      "female    27.915709\n",
      "male      30.726645\n",
      "Name: Age, dtype: float64\n"
     ]
    }
   ],
   "source": [
    "print titanic_df.groupby('Sex').mean()['Age']"
   ]
  },
  {
   "cell_type": "code",
   "execution_count": 105,
   "metadata": {
    "collapsed": false,
    "scrolled": false
   },
   "outputs": [
    {
     "name": "stdout",
     "output_type": "stream",
     "text": [
      "People under 10\n",
      "Survived\n",
      "0    0.387097\n",
      "1    0.612903\n",
      "Name: PassengerId, dtype: float64\n",
      "\n",
      "People over 10\n",
      "Survived\n",
      "0    0.613497\n",
      "1    0.386503\n",
      "Name: PassengerId, dtype: float64\n",
      "\n",
      "People under 20\n",
      "Survived\n",
      "0    0.518293\n",
      "1    0.481707\n",
      "Name: PassengerId, dtype: float64\n",
      "\n",
      "People over 20\n",
      "Survived\n",
      "0    0.616364\n",
      "1    0.383636\n",
      "Name: PassengerId, dtype: float64\n",
      "\n",
      "People under 30\n",
      "Survived\n",
      "0    0.59375\n",
      "1    0.40625\n",
      "Name: PassengerId, dtype: float64\n",
      "\n",
      "People over 30\n",
      "Survived\n",
      "0    0.593939\n",
      "1    0.406061\n",
      "Name: PassengerId, dtype: float64\n",
      "\n",
      "People under 40\n",
      "Survived\n",
      "0    0.584392\n",
      "1    0.415608\n",
      "Name: PassengerId, dtype: float64\n",
      "\n",
      "People over 40\n",
      "Survived\n",
      "0    0.625767\n",
      "1    0.374233\n",
      "Name: PassengerId, dtype: float64\n",
      "\n",
      "People under 50\n",
      "Survived\n",
      "0    0.589063\n",
      "1    0.410938\n",
      "Name: PassengerId, dtype: float64\n",
      "\n",
      "People over 50\n",
      "Survived\n",
      "0    0.635135\n",
      "1    0.364865\n",
      "Name: PassengerId, dtype: float64\n",
      "\n",
      "People under 60\n",
      "Survived\n",
      "0    0.588663\n",
      "1    0.411337\n",
      "Name: PassengerId, dtype: float64\n",
      "\n",
      "People over 60\n",
      "Survived\n",
      "0    0.730769\n",
      "1    0.269231\n",
      "Name: PassengerId, dtype: float64\n",
      "\n"
     ]
    }
   ],
   "source": [
    "group= titanic_df['Age']\n",
    "#for group in titanic_df:\n",
    "\n",
    "def young_vs_adult(age):\n",
    "    young = titanic_df[titanic_df['Age'] < age]\n",
    "    adult = titanic_df[titanic_df['Age'] >= age]\n",
    "\n",
    "    print 'People under',age\n",
    "    print young.groupby('Survived').count()['PassengerId']/len(young)\n",
    "    print ''\n",
    "    print 'People over',age\n",
    "    print adult.groupby('Survived').count()['PassengerId']/len(adult)\n",
    "    print ''\n",
    "    return None\n",
    "    \n",
    "young_vs_adult(10)\n",
    "young_vs_adult(20)\n",
    "young_vs_adult(30)\n",
    "young_vs_adult(40)\n",
    "young_vs_adult(50)\n",
    "young_vs_adult(60)"
   ]
  },
  {
   "cell_type": "code",
   "execution_count": 145,
   "metadata": {
    "collapsed": false
   },
   "outputs": [
    {
     "name": "stdout",
     "output_type": "stream",
     "text": [
      "Populating the interactive namespace from numpy and matplotlib\n"
     ]
    },
    {
     "data": {
      "text/plain": [
       "<matplotlib.collections.PathCollection at 0x120471ed0>"
      ]
     },
     "execution_count": 145,
     "metadata": {},
     "output_type": "execute_result"
    },
    {
     "data": {
      "image/png": "[encoded data removed]",
      "text/plain": [
       "<matplotlib.figure.Figure at 0x11ff2ead0>"
      ]
     },
     "metadata": {},
     "output_type": "display_data"
    }
   ],
   "source": [
    "%pylab inline\n",
    "Pclass_age = titanic_df.groupby(['Pclass','Age'], as_index = False).mean()\n",
    "\n",
    "scaled_entries = Pclass_age['Survived']*100\n",
    "\n",
    "plt.scatter(Pclass_age['Pclass'], Pclass_age['Age'], s = scaled_entries)"
   ]
  },
  {
   "cell_type": "code",
   "execution_count": 148,
   "metadata": {
    "collapsed": false
   },
   "outputs": [
    {
     "name": "stdout",
     "output_type": "stream",
     "text": [
      "Populating the interactive namespace from numpy and matplotlib\n"
     ]
    },
    {
     "data": {
      "text/plain": [
       "<matplotlib.collections.PathCollection at 0x120a90790>"
      ]
     },
     "execution_count": 148,
     "metadata": {},
     "output_type": "execute_result"
    },
    {
     "data": {
      "image/png": "[encoded data removed]",
      "text/plain": [
       "<matplotlib.figure.Figure at 0x1201b9410>"
      ]
     },
     "metadata": {},
     "output_type": "display_data"
    }
   ],
   "source": [
    "%pylab inline\n",
    "SibSp_Parch = titanic_df.groupby(['SibSp','Parch'], as_index = False).mean()\n",
    "\n",
    "scaled_entries = SibSp_Parch['Survived']*200\n",
    "\n",
    "plt.scatter(SibSp_Parch['SibSp'], SibSp_Parch['Parch'], s = scaled_entries)"
   ]
  },
  {
   "cell_type": "code",
   "execution_count": null,
   "metadata": {
    "collapsed": true
   },
   "outputs": [],
   "source": []
  }
 ],
 "metadata": {
  "kernelspec": {
   "display_name": "Python 2",
   "language": "python",
   "name": "python2"
  },
  "language_info": {
   "codemirror_mode": {
    "name": "ipython",
    "version": 2
   },
   "file_extension": ".py",
   "mimetype": "text/x-python",
   "name": "python",
   "nbconvert_exporter": "python",
   "pygments_lexer": "ipython2",
   "version": "2.7.12"
  }
 },
 "nbformat": 4,
 "nbformat_minor": 0
}
